{
 "cells": [
  {
   "cell_type": "code",
   "execution_count": 2,
   "id": "22cb2c53-c603-450e-a834-d495ba760a5c",
   "metadata": {},
   "outputs": [],
   "source": [
    "from basketball_reference_scraper.seasons import get_schedule\n",
    "from basketball_reference_scraper.box_scores import get_box_scores\n",
    "import pandas as pd\n",
    "import matplotlib.pyplot as plt"
   ]
  },
  {
   "cell_type": "code",
   "execution_count": 3,
   "id": "05a48fa0-e699-4514-8335-d692ceb04b95",
   "metadata": {},
   "outputs": [],
   "source": [
    "name_swap = {\n",
    "    'BRK': 'Brooklyn Nets',\n",
    "    'WAS': 'Washington Wizards',\n",
    "    'CHI': 'Chicago Bulls',\n",
    "    'MIA': 'Miami Heat',\n",
    "    'NYK': 'New York Knicks',\n",
    "    'CHO': 'Charlotte Hornets',\n",
    "    'BOS': 'Boston Celtics',\n",
    "    'CLE': 'Cleveland Cavaliers',\n",
    "    'MIL': 'Milwaukee Bucks',\n",
    "    'PHI': 'Philadelphia 76ers',\n",
    "    'ATL': 'Atlanta Hawks',\n",
    "    'TOR': 'Toronto Raptors',\n",
    "    'IND': 'Indiana Pacers',\n",
    "    'DET': 'Detroit Pistons',\n",
    "    'ORL': 'Orlando Magic',\n",
    "    'GSW': 'Golden State Warriors',\n",
    "    'PHO': 'Phoenix Suns',\n",
    "    'UTA': 'Utah Jazz',\n",
    "    'DAL': 'Dallas Mavericks',\n",
    "    'DEN': 'Denver Nuggets',\n",
    "    'LAC': 'Los Angeles Clippers',\n",
    "    'POR': 'Portland Trail Blazers',\n",
    "    'MEM': 'Memphis Grizzlies',\n",
    "    'LAL': 'Los Angeles Lakers',\n",
    "    'MIN': 'Minnesota Timberwolves',\n",
    "    'OKC': 'Oklahoma City Thunder',\n",
    "    'SAC': 'Sacramento Kings',\n",
    "    'SAS': 'San Antonio Spurs',\n",
    "    'NOP': 'New Orleans Pelicans',\n",
    "    'HOU': 'Houston Rockets'\n",
    "}\n",
    "temp = {}\n",
    "for n in name_swap:\n",
    "    temp[name_swap[n]] = n\n",
    "for n in temp:\n",
    "    name_swap[n] = temp[n]"
   ]
  },
  {
   "cell_type": "code",
   "execution_count": 4,
   "id": "b8c7cbf0-7001-4e90-b5be-e5b0892451cc",
   "metadata": {},
   "outputs": [],
   "source": [
    "def get_fun(season = 2021, team = 'UTA', player = 'Team Totals'):\n",
    "    s = get_schedule(season, playoffs=False)\n",
    "    t = s[(s.VISITOR == name_swap[team]) | (s.HOME == name_swap[team])]\n",
    "    game_num = []\n",
    "    three_perc = []\n",
    "    thp_total = 0\n",
    "    thpa_total = 0\n",
    "    missing = []\n",
    "    for r in range(len(t)):\n",
    "        d = str(t.iloc[r]['DATE'])[:10]\n",
    "        home = t.iloc[r]['HOME']\n",
    "        visitor = t.iloc[r]['VISITOR']\n",
    "        h = name_swap[home]\n",
    "        v = name_swap[visitor]\n",
    "        try:\n",
    "            b = get_box_scores(d, v, h, period='GAME', stat_type='BASIC')[team]\n",
    "            # threes\n",
    "            thp = float(b[b['PLAYER']==player]['3P'])\n",
    "            thp_total += thp\n",
    "            thpa = float(b[b['PLAYER']==player]['3PA'])\n",
    "            thpa_total += thpa\n",
    "            game_num.append(r)\n",
    "            three_perc.append(thp_total/thpa_total)\n",
    "        except BaseException:\n",
    "            missing.append((d, h, v))\n",
    "        #ft = float(b[b['PLAYER']=='Team Totals'].FT)\n",
    "        #fta = float(b[b['PLAYER']=='Team Totals'].FTA)\n",
    "    df = pd.DataFrame()\n",
    "    df['game_num'] = game_num\n",
    "    df['three_perc'] = three_perc\n",
    "    print('Missing: '+str(missing))\n",
    "    return df"
   ]
  },
  {
   "cell_type": "code",
   "execution_count": 5,
   "id": "9d9ed960-3d98-4db2-b230-dd513f973b42",
   "metadata": {},
   "outputs": [
    {
     "name": "stdout",
     "output_type": "stream",
     "text": [
      "Missing: [('2021-01-27', 'UTA', 'DAL'), ('2021-01-29', 'UTA', 'DAL'), ('2021-03-31', 'MEM', 'UTA'), ('2021-04-17', 'LAL', 'UTA'), ('2021-04-19', 'LAL', 'UTA'), ('2021-04-21', 'HOU', 'UTA'), ('2021-04-24', 'UTA', 'MIN'), ('2021-04-26', 'MIN', 'UTA'), ('2021-04-28', 'SAC', 'UTA'), ('2021-04-30', 'PHO', 'UTA'), ('2021-05-01', 'UTA', 'TOR'), ('2021-05-03', 'UTA', 'SAS'), ('2021-05-05', 'UTA', 'SAS'), ('2021-05-07', 'UTA', 'DEN'), ('2021-05-08', 'UTA', 'HOU'), ('2021-05-10', 'GSW', 'UTA'), ('2021-05-12', 'UTA', 'POR'), ('2021-05-14', 'OKC', 'UTA'), ('2021-05-16', 'SAC', 'UTA'), ('2021-05-23', 'UTA', 'MEM')]\n"
     ]
    }
   ],
   "source": [
    "df = get_fun(season=2021,team='UTA',player='Donovan Mitchell')"
   ]
  },
  {
   "cell_type": "code",
   "execution_count": 7,
   "id": "1263bc14-2ee3-4b6e-a86a-859a06956097",
   "metadata": {},
   "outputs": [
    {
     "data": {
      "image/png": "[encoded data removed]",
      "text/plain": [
       "<Figure size 432x288 with 1 Axes>"
      ]
     },
     "metadata": {
      "needs_background": "light"
     },
     "output_type": "display_data"
    }
   ],
   "source": [
    "last_val = df.iloc[-1]['three_perc']\n",
    "plt.plot(df['game_num'], df['three_perc'])\n",
    "plt.plot([0, 83], [last_val, last_val], 'k-', lw=1)\n",
    "plt.title('Season 3P% By Game, Donovan 2021')\n",
    "plt.ylabel('Season 3P%')\n",
    "plt.xlabel('Game Number')\n",
    "plt.show()"
   ]
  },
  {
   "cell_type": "code",
   "execution_count": null,
   "id": "bda5d986-a2a6-44c4-928d-631c40b41815",
   "metadata": {},
   "outputs": [],
   "source": []
  }
 ],
 "metadata": {
  "kernelspec": {
   "display_name": "Python 3 (ipykernel)",
   "language": "python",
   "name": "python3"
  },
  "language_info": {
   "codemirror_mode": {
    "name": "ipython",
    "version": 3
   },
   "file_extension": ".py",
   "mimetype": "text/x-python",
   "name": "python",
   "nbconvert_exporter": "python",
   "pygments_lexer": "ipython3",
   "version": "3.7.3"
  }
 },
 "nbformat": 4,
 "nbformat_minor": 5
}
