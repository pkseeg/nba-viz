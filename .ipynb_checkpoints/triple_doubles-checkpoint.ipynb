{
 "cells": [
  {
   "cell_type": "code",
   "execution_count": 2,
   "id": "fadf453f-97ba-4d96-a2d3-19bb5d59bf69",
   "metadata": {},
   "outputs": [],
   "source": [
    "from basketball_reference_scraper.seasons import get_schedule\n",
    "from basketball_reference_scraper.box_scores import get_box_scores\n",
    "import pandas as pd\n",
    "from math import isnan\n",
    "from tqdm.notebook import tqdm, trange\n",
    "import matplotlib.pyplot as plt\n",
    "from utils import set_size, name_swap, MAIN, OTHER, BACKGROUND, all_team_ids"
   ]
  },
  {
   "cell_type": "code",
   "execution_count": 3,
   "id": "0cad958c-6ad0-482e-95da-a7a7b549e3fd",
   "metadata": {},
   "outputs": [],
   "source": [
    "def num_triple_doubles(team='UTA', season_range=(1980,2022)):\n",
    "    ''' num_triple_doubles\n",
    "    params:\n",
    "     team\n",
    "     - str, three character team identifier (Utah Jazz = 'UTA')\n",
    "     season_range\n",
    "     - tuple of ints, range of seasons (inclusive, 1980 is as far back as it goes)\n",
    "    returns:\n",
    "     FIXME\n",
    "    '''\n",
    "    st, en = season_range\n",
    "    num_trip_dub = 0\n",
    "    missing = []\n",
    "    for season in trange(st, en+1):\n",
    "        print('Season: '+str(season))\n",
    "        s = get_schedule(season, playoffs=False)\n",
    "        t = s[(s.VISITOR == name_swap[team]) | (s.HOME == name_swap[team])]\n",
    "        for r in trange(len(t)):\n",
    "            d = str(t.iloc[r]['DATE'])[:10]\n",
    "            home = t.iloc[r]['HOME']\n",
    "            visitor = t.iloc[r]['VISITOR']\n",
    "            h = name_swap[home]\n",
    "            v = name_swap[visitor]\n",
    "            try:\n",
    "                b = get_box_scores(d, v, h, period='GAME', stat_type='BASIC')[team]\n",
    "                # check triple doubles\n",
    "                for i, row in b.iterrows():\n",
    "                    if sum([int(row['TRB'])>9, \n",
    "                            int(row['AST'])>9, \n",
    "                            int(row['STL'])>9, \n",
    "                            int(row['BLK'])>9, \n",
    "                            int(row['PTS'])>9]) > 2: \n",
    "                        if row['PLAYER'] != 'Team Totals':\n",
    "                            num_trip_dub += 1\n",
    "                    # DELETEME\n",
    "                    print(type(row['3P%']))\n",
    "                    if not type(row['3P%']) == float: print(row['3P%'])\n",
    "            except BaseException:\n",
    "                missing.append((d, h, v))\n",
    "    return num_trip_double"
   ]
  },
  {
   "cell_type": "code",
   "execution_count": null,
   "id": "0e3568f3-2524-44dc-b920-fbc5f951fec2",
   "metadata": {},
   "outputs": [
    {
     "data": {
      "application/vnd.jupyter.widget-view+json": {
       "model_id": "b5f2d80863bc474eb7f890c8b26811a7",
       "version_major": 2,
       "version_minor": 0
      },
      "text/plain": [
       "  0%|          | 0/15 [00:00<?, ?it/s]"
      ]
     },
     "metadata": {},
     "output_type": "display_data"
    },
    {
     "name": "stdout",
     "output_type": "stream",
     "text": [
      "Season: 2008\n"
     ]
    },
    {
     "data": {
      "application/vnd.jupyter.widget-view+json": {
       "model_id": "a744045a9f974a938f94aab0dba241cd",
       "version_major": 2,
       "version_minor": 0
      },
      "text/plain": [
       "  0%|          | 0/82 [00:00<?, ?it/s]"
      ]
     },
     "metadata": {},
     "output_type": "display_data"
    },
    {
     "name": "stdout",
     "output_type": "stream",
     "text": [
      "<class 'float'>\n",
      "<class 'float'>\n",
      "<class 'str'>\n",
      ".750\n",
      "<class 'float'>\n",
      "<class 'str'>\n",
      ".000\n",
      "<class 'float'>\n",
      "<class 'str'>\n",
      ".500\n",
      "<class 'str'>\n",
      ".000\n",
      "<class 'str'>\n",
      ".000\n",
      "<class 'float'>\n",
      "<class 'float'>\n",
      "<class 'float'>\n",
      "<class 'str'>\n",
      ".455\n",
      "<class 'str'>\n",
      ".000\n",
      "<class 'float'>\n",
      "<class 'float'>\n",
      "<class 'str'>\n",
      ".500\n",
      "<class 'str'>\n",
      ".000\n",
      "<class 'float'>\n",
      "<class 'float'>\n",
      "<class 'float'>\n",
      "<class 'str'>\n",
      ".000\n",
      "<class 'str'>\n",
      ".000\n",
      "<class 'float'>\n"
     ]
    }
   ],
   "source": [
    "ntd_uta = num_triple_doubles(team='UTA', season_range=(2008, 2022))\n",
    "ntd_uta"
   ]
  },
  {
   "cell_type": "code",
   "execution_count": null,
   "id": "c5135faa-c63d-45f2-afe0-2ea1e2273fdc",
   "metadata": {},
   "outputs": [],
   "source": []
  }
 ],
 "metadata": {
  "kernelspec": {
   "display_name": "Python 3 (ipykernel)",
   "language": "python",
   "name": "python3"
  },
  "language_info": {
   "codemirror_mode": {
    "name": "ipython",
    "version": 3
   },
   "file_extension": ".py",
   "mimetype": "text/x-python",
   "name": "python",
   "nbconvert_exporter": "python",
   "pygments_lexer": "ipython3",
   "version": "3.7.3"
  }
 },
 "nbformat": 4,
 "nbformat_minor": 5
}
